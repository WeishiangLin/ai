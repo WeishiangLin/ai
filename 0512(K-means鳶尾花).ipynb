{
 "cells": [
  {
   "cell_type": "code",
   "execution_count": 1,
   "id": "00a5c3b0",
   "metadata": {},
   "outputs": [],
   "source": [
    "import matplotlib.pyplot as plt "
   ]
  },
  {
   "cell_type": "code",
   "execution_count": 2,
   "id": "dae34007",
   "metadata": {},
   "outputs": [],
   "source": [
    "import numpy as np"
   ]
  },
  {
   "cell_type": "code",
   "execution_count": 3,
   "id": "cce50f42",
   "metadata": {},
   "outputs": [],
   "source": [
    "import pandas as pd \n",
    "from sklearn import linear_model\n",
    "import matplotlib.pyplot as plt\n"
   ]
  },
  {
   "cell_type": "code",
   "execution_count": 4,
   "id": "0b9f6e6a",
   "metadata": {},
   "outputs": [],
   "source": [
    "import matplotlib.pyplot as plt\n",
    "import numpy as np\n",
    "from sklearn import datasets,linear_model\n"
   ]
  },
  {
   "cell_type": "code",
   "execution_count": 11,
   "id": "d6ed9cae",
   "metadata": {},
   "outputs": [
    {
     "name": "stdout",
     "output_type": "stream",
     "text": [
      "集群中心的座標： [[2.1 2.1]\n",
      " [1.1 1.1]]\n",
      "預測： [1 1 1 0 0 0]\n",
      "實際： [1, 1, 1, 0, 0, 0]\n",
      "預測[1, 1],[2.3,2.1]: [1 0]\n"
     ]
    },
    {
     "data": {
      "image/png": "[encoded data removed]",
      "text/plain": [
       "<Figure size 432x288 with 1 Axes>"
      ]
     },
     "metadata": {},
     "output_type": "display_data"
    }
   ],
   "source": [
    "import numpy as np\n",
    "from sklearn.model_selection import train_test_split\n",
    "from sklearn.cluster import KMeans\n",
    "from time import time\n",
    "import numpy as np\n",
    "import matplotlib.pyplot as plt\n",
    "\n",
    "from sklearn import metrics\n",
    "\n",
    "X=np.array([[1,1],[1.1,1.1],[1.2,1.2],[2,2],[2.1,2.1],[2.2,2.2]])\n",
    "y=[1,1,1,0,0,0]\n",
    "\n",
    "kmeans = KMeans(n_clusters=2, random_state=0).fit(X)\n",
    "print(\"集群中心的座標：\",kmeans.cluster_centers_)\n",
    "print(\"預測：\",kmeans.predict(X))\n",
    "print(\"實際：\",y)\n",
    "print(\"預測[1, 1],[2.3,2.1]:\",kmeans.predict([[1,1],[2.3,2.1]]))\n",
    "\n",
    "plt.axis([0,3,0,3])\n",
    "plt.plot(X[:3,0],X[:3,1],'yx')\n",
    "plt.plot(X[3:,0],X[3:,1],'g.')\n",
    "plt.plot(kmeans.cluster_centers_[:,0],kmeans.cluster_centers_[:,1],'ro')\n",
    "plt.xticks(())\n",
    "plt.yticks(())\n",
    "plt.show()"
   ]
  },
  {
   "cell_type": "code",
   "execution_count": 12,
   "id": "f4df237b",
   "metadata": {},
   "outputs": [
    {
     "name": "stdout",
     "output_type": "stream",
     "text": [
      "實際 [2 2 2 2 1 1 0 1 2 2 2 0 2 1 2 1 0 1 0 2 1 2 2 2 1 2 1 0 0 2 1 1 0 0 0 1 0\n",
      " 1 1 1 2 2 0 1 1 0 2 2 0 1 2 1 0 0 1 0 1 2 0 0 0 1 1 2 2 0 1 0 0 1 0 1 2 1\n",
      " 2 0 0 1 0 0 2 1 0 0 1 2 1 2 1 1 0 0 0 0 1 2 0 2 2 2 0 2 0 2 2 1 1 0 2 2 0\n",
      " 2 2 0 0 2 1 1 1 1]\n",
      "預測 [0 0 0 0 0 0 1 0 0 0 0 1 0 0 0 0 1 0 1 0 0 0 0 0 0 0 0 1 1 0 0 0 1 1 1 0 1\n",
      " 0 0 0 0 0 1 0 0 1 0 0 1 0 0 1 1 1 0 1 0 0 1 1 1 0 0 0 0 1 0 1 1 0 1 0 0 0\n",
      " 0 1 1 0 1 1 0 0 1 1 0 0 0 0 0 0 1 1 1 1 0 0 1 0 0 0 1 0 1 0 0 1 0 1 0 0 1\n",
      " 0 0 1 1 0 0 0 0 0]\n",
      "調整 [2 2 2 2 0 0 1 0 2 2 2 1 2 0 2 0 1 0 1 2 0 2 2 2 0 2 0 1 1 2 0 0 1 1 1 0 1\n",
      " 0 0 0 2 2 1 0 0 1 2 2 1 0 2 0 1 1 0 1 0 2 1 1 1 0 0 2 2 1 0 1 1 0 1 0 2 0\n",
      " 2 1 1 0 1 1 2 0 1 1 0 2 0 2 0 0 1 1 1 1 0 2 1 2 2 2 1 2 1 2 2 0 0 1 2 2 1\n",
      " 2 2 1 1 2 0 0 0 0]\n",
      "準確路：0.650000\n"
     ]
    }
   ],
   "source": [
    "import matplotlib.pyplot as plt\n",
    "import numpy as np\n",
    "from sklearn import datasets\n",
    "from sklearn.model_selection import train_test_split\n",
    "from sklearn.cluster import KMeans\n",
    "from sklearn import metrics\n",
    "\n",
    "iris = datasets.load_iris()\n",
    "\n",
    "iris_X_train , iris_X_test , iris_y_train , iris_y_test = train_test_split(iris.data,iris.target,test_size=0.2)\n",
    "\n",
    "kmeans = KMeans(n_clusters = 2)\n",
    "kmeans_fit = kmeans.fit(iris_X_train)\n",
    "\n",
    "print(\"實際\",iris_y_train)\n",
    "print(\"預測\",kmeans_fit.labels_)\n",
    "\n",
    "iris_y_train[iris_y_train==1]=11\n",
    "iris_y_train[iris_y_train==0]=1\n",
    "iris_y_train[iris_y_train==11]=0\n",
    "print(\"調整\",iris_y_train)\n",
    "\n",
    "score = metrics.accuracy_score(iris_y_train,kmeans.predict(iris_X_train))\n",
    "print('準確路：{0:f}'.format(score))\n",
    "\n"
   ]
  },
  {
   "cell_type": "code",
   "execution_count": 14,
   "id": "5da8f9ca",
   "metadata": {},
   "outputs": [
    {
     "data": {
      "image/png": "[encoded data removed]",
      "text/plain": [
       "<Figure size 432x288 with 1 Axes>"
      ]
     },
     "metadata": {
      "needs_background": "light"
     },
     "output_type": "display_data"
    }
   ],
   "source": [
    "import matplotlib.pyplot as plt \n",
    "import numpy as np \n",
    "from sklearn import datasets\n",
    "from sklearn.model_selection import train_test_split\n",
    "from sklearn.cluster import KMeans\n",
    "from sklearn import metrics\n",
    "\n",
    "iris = datasets.load_iris()\n",
    "\n",
    "iris_X_train , iris_X_test , iris_y_train , iris_y_test = train_test_split(iris.data,iris.target,test_size=0.2)\n",
    "kmeans = KMeans(n_clusters = 3)\n",
    "kmeans.fit(iris_X_train)\n",
    "y_predict=kmeans.predict(iris_X_train)\n",
    "\n",
    "x1=iris_X_train[:,0]\n",
    "y1=iris_X_train[:,1]\n",
    "plt.scatter(x1,y1,c=y_predict,cmap='viridis')\n",
    "\n",
    "centers = kmeans.cluster_centers_\n",
    "plt.scatter(centers[:,0],centers[:,1],c='black',s=200, alpha=0.5);\n",
    "plt.show()\n"
   ]
  },
  {
   "cell_type": "code",
   "execution_count": null,
   "id": "2bb206b1",
   "metadata": {},
   "outputs": [],
   "source": []
  }
 ],
 "metadata": {
  "kernelspec": {
   "display_name": "Python 3",
   "language": "python",
   "name": "python3"
  },
  "language_info": {
   "codemirror_mode": {
    "name": "ipython",
    "version": 3
   },
   "file_extension": ".py",
   "mimetype": "text/x-python",
   "name": "python",
   "nbconvert_exporter": "python",
   "pygments_lexer": "ipython3",
   "version": "3.8.8"
  }
 },
 "nbformat": 4,
 "nbformat_minor": 5
}
